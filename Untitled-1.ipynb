{
 "cells": [
  {
   "cell_type": "code",
   "execution_count": 2,
   "metadata": {},
   "outputs": [
    {
     "name": "stdout",
     "output_type": "stream",
     "text": [
      "Collecting nudenet\n",
      "  Using cached nudenet-3.0.8-py3-none-any.whl.metadata (2.4 kB)\n",
      "Requirement already satisfied: numpy in c:\\users\\jyothish\\appdata\\local\\programs\\python\\python310\\lib\\site-packages (from nudenet) (1.26.4)\n",
      "Collecting onnxruntime (from nudenet)\n",
      "  Using cached onnxruntime-1.18.0-cp310-cp310-win_amd64.whl.metadata (4.4 kB)\n",
      "Collecting opencv-python-headless (from nudenet)\n",
      "  Using cached opencv_python_headless-4.10.0.82-cp37-abi3-win_amd64.whl.metadata (20 kB)\n",
      "Collecting coloredlogs (from onnxruntime->nudenet)\n",
      "  Using cached coloredlogs-15.0.1-py2.py3-none-any.whl.metadata (12 kB)\n",
      "Collecting flatbuffers (from onnxruntime->nudenet)\n",
      "  Using cached flatbuffers-24.3.25-py2.py3-none-any.whl.metadata (850 bytes)\n",
      "Requirement already satisfied: packaging in c:\\users\\jyothish\\appdata\\local\\programs\\python\\python310\\lib\\site-packages (from onnxruntime->nudenet) (21.3)\n",
      "Collecting protobuf (from onnxruntime->nudenet)\n",
      "  Using cached protobuf-5.27.1-cp310-abi3-win_amd64.whl.metadata (592 bytes)\n",
      "Collecting sympy (from onnxruntime->nudenet)\n",
      "  Using cached sympy-1.12.1-py3-none-any.whl.metadata (12 kB)\n",
      "Collecting humanfriendly>=9.1 (from coloredlogs->onnxruntime->nudenet)\n",
      "  Using cached humanfriendly-10.0-py2.py3-none-any.whl.metadata (9.2 kB)\n",
      "Requirement already satisfied: pyparsing!=3.0.5,>=2.0.2 in c:\\users\\jyothish\\appdata\\local\\programs\\python\\python310\\lib\\site-packages (from packaging->onnxruntime->nudenet) (3.0.9)\n",
      "Collecting mpmath<1.4.0,>=1.1.0 (from sympy->onnxruntime->nudenet)\n",
      "  Using cached mpmath-1.3.0-py3-none-any.whl.metadata (8.6 kB)\n",
      "Collecting pyreadline3 (from humanfriendly>=9.1->coloredlogs->onnxruntime->nudenet)\n",
      "  Using cached pyreadline3-3.4.1-py3-none-any.whl.metadata (2.0 kB)\n",
      "Using cached nudenet-3.0.8-py3-none-any.whl (10.6 MB)\n",
      "Using cached onnxruntime-1.18.0-cp310-cp310-win_amd64.whl (5.6 MB)\n",
      "Using cached opencv_python_headless-4.10.0.82-cp37-abi3-win_amd64.whl (38.8 MB)\n",
      "Using cached coloredlogs-15.0.1-py2.py3-none-any.whl (46 kB)\n",
      "Using cached flatbuffers-24.3.25-py2.py3-none-any.whl (26 kB)\n",
      "Using cached protobuf-5.27.1-cp310-abi3-win_amd64.whl (426 kB)\n",
      "Using cached sympy-1.12.1-py3-none-any.whl (5.7 MB)\n",
      "Using cached humanfriendly-10.0-py2.py3-none-any.whl (86 kB)\n",
      "Using cached mpmath-1.3.0-py3-none-any.whl (536 kB)\n",
      "Using cached pyreadline3-3.4.1-py3-none-any.whl (95 kB)\n",
      "Installing collected packages: pyreadline3, mpmath, flatbuffers, sympy, protobuf, opencv-python-headless, humanfriendly, coloredlogs, onnxruntime, nudenet\n",
      "Note: you may need to restart the kernel to use updated packages.\n"
     ]
    },
    {
     "name": "stderr",
     "output_type": "stream",
     "text": [
      "ERROR: Could not install packages due to an OSError: [Errno 13] Permission denied: 'c:\\\\Users\\\\Jyothish\\\\AppData\\\\Local\\\\Programs\\\\Python\\\\Python310\\\\Lib\\\\site-packages\\\\mpmath-1.3.0.dist-info\\\\INSTALLER'\n",
      "Consider using the `--user` option or check the permissions.\n",
      "\n"
     ]
    }
   ],
   "source": [
    "pip install nudenet"
   ]
  },
  {
   "cell_type": "code",
   "execution_count": 3,
   "metadata": {},
   "outputs": [
    {
     "ename": "ModuleNotFoundError",
     "evalue": "No module named 'nudenet'",
     "output_type": "error",
     "traceback": [
      "\u001b[1;31m---------------------------------------------------------------------------\u001b[0m",
      "\u001b[1;31mModuleNotFoundError\u001b[0m                       Traceback (most recent call last)",
      "Cell \u001b[1;32mIn [3], line 1\u001b[0m\n\u001b[1;32m----> 1\u001b[0m \u001b[38;5;28;01mfrom\u001b[39;00m \u001b[38;5;21;01mnudenet\u001b[39;00m \u001b[38;5;28;01mimport\u001b[39;00m NudeClassifier\n\u001b[0;32m      3\u001b[0m \u001b[38;5;66;03m# Initialize the classifier\u001b[39;00m\n\u001b[0;32m      4\u001b[0m classifier \u001b[38;5;241m=\u001b[39m NudeClassifier()\n",
      "\u001b[1;31mModuleNotFoundError\u001b[0m: No module named 'nudenet'"
     ]
    },
    {
     "name": "stdout",
     "output_type": "stream",
     "text": [
      "Collecting nudenet\n",
      "  Using cached nudenet-3.0.8-py3-none-any.whl.metadata (2.4 kB)\n",
      "Requirement already satisfied: numpy in c:\\users\\jyothish\\appdata\\local\\programs\\python\\python310\\lib\\site-packages (from nudenet) (1.26.4)\n",
      "Collecting onnxruntime (from nudenet)\n",
      "  Using cached onnxruntime-1.18.0-cp310-cp310-win_amd64.whl.metadata (4.4 kB)\n",
      "Collecting opencv-python-headless (from nudenet)\n",
      "  Using cached opencv_python_headless-4.10.0.82-cp37-abi3-win_amd64.whl.metadata (20 kB)\n",
      "Collecting coloredlogs (from onnxruntime->nudenet)\n",
      "  Using cached coloredlogs-15.0.1-py2.py3-none-any.whl.metadata (12 kB)\n",
      "Collecting flatbuffers (from onnxruntime->nudenet)\n",
      "  Using cached flatbuffers-24.3.25-py2.py3-none-any.whl.metadata (850 bytes)\n",
      "Requirement already satisfied: packaging in c:\\users\\jyothish\\appdata\\local\\programs\\python\\python310\\lib\\site-packages (from onnxruntime->nudenet) (21.3)\n",
      "Collecting protobuf (from onnxruntime->nudenet)\n",
      "  Using cached protobuf-5.27.1-cp310-abi3-win_amd64.whl.metadata (592 bytes)\n",
      "Collecting sympy (from onnxruntime->nudenet)\n",
      "  Using cached sympy-1.12.1-py3-none-any.whl.metadata (12 kB)\n",
      "Collecting humanfriendly>=9.1 (from coloredlogs->onnxruntime->nudenet)\n",
      "  Using cached humanfriendly-10.0-py2.py3-none-any.whl.metadata (9.2 kB)\n",
      "Requirement already satisfied: pyparsing!=3.0.5,>=2.0.2 in c:\\users\\jyothish\\appdata\\local\\programs\\python\\python310\\lib\\site-packages (from packaging->onnxruntime->nudenet) (3.0.9)\n",
      "Collecting mpmath<1.4.0,>=1.1.0 (from sympy->onnxruntime->nudenet)\n",
      "  Using cached mpmath-1.3.0-py3-none-any.whl.metadata (8.6 kB)\n",
      "Collecting pyreadline3 (from humanfriendly>=9.1->coloredlogs->onnxruntime->nudenet)\n",
      "  Using cached pyreadline3-3.4.1-py3-none-any.whl.metadata (2.0 kB)\n",
      "Downloading nudenet-3.0.8-py3-none-any.whl (10.6 MB)\n",
      "   ---------------------------------------- 10.6/10.6 MB 1.1 MB/s eta 0:00:00\n",
      "Downloading onnxruntime-1.18.0-cp310-cp310-win_amd64.whl (5.6 MB)\n",
      "   ---------------------------------------- 5.6/5.6 MB 773.2 kB/s eta 0:00:00\n",
      "Downloading opencv_python_headless-4.10.0.82-cp37-abi3-win_amd64.whl (38.8 MB)\n",
      "   ---------------------------------------- 38.8/38.8 MB 1.1 MB/s eta 0:00:00\n",
      "Downloading coloredlogs-15.0.1-py2.py3-none-any.whl (46 kB)\n",
      "   ---------------------------------------- 46.0/46.0 kB 2.4 MB/s eta 0:00:00\n",
      "Downloading flatbuffers-24.3.25-py2.py3-none-any.whl (26 kB)\n",
      "Downloading protobuf-5.27.1-cp310-abi3-win_amd64.whl (426 kB)\n",
      "   ---------------------------------------- 426.9/426.9 kB 1.2 MB/s eta 0:00:00\n",
      "Downloading sympy-1.12.1-py3-none-any.whl (5.7 MB)\n",
      "   ---------------------------------------- 5.7/5.7 MB 938.4 kB/s eta 0:00:00\n",
      "Downloading humanfriendly-10.0-py2.py3-none-any.whl (86 kB)\n",
      "   ---------------------------------------- 86.8/86.8 kB 5.1 MB/s eta 0:00:00\n",
      "Downloading mpmath-1.3.0-py3-none-any.whl (536 kB)\n",
      "   ---------------------------------------- 536.2/536.2 kB 1.3 MB/s eta 0:00:00\n",
      "Downloading pyreadline3-3.4.1-py3-none-any.whl (95 kB)\n",
      "   ---------------------------------------- 95.2/95.2 kB 2.7 MB/s eta 0:00:00\n",
      "Installing collected packages: pyreadline3, mpmath, flatbuffers, sympy, protobuf, opencv-python-headless, humanfriendly, coloredlogs, onnxruntime, nudenet\n",
      "Successfully installed coloredlogs-15.0.1 flatbuffers-24.3.25 humanfriendly-10.0 mpmath-1.3.0 nudenet-3.0.8 onnxruntime-1.18.0 opencv-python-headless-4.10.0.82 protobuf-5.27.1 pyreadline3-3.4.1 sympy-1.12.1\n"
     ]
    }
   ],
   "source": [
    "from nudenet import NudeClassifier\n",
    "\n",
    "# Initialize the classifier\n",
    "classifier = NudeClassifier()\n",
    "\n",
    "# Classify an image\n",
    "result = classifier.classify(\"assets/OIP.jpg\")\n",
    "\n",
    "# Output the result\n",
    "print(result)\n"
   ]
  }
 ],
 "metadata": {
  "kernelspec": {
   "display_name": "Python 3",
   "language": "python",
   "name": "python3"
  },
  "language_info": {
   "codemirror_mode": {
    "name": "ipython",
    "version": 3
   },
   "file_extension": ".py",
   "mimetype": "text/x-python",
   "name": "python",
   "nbconvert_exporter": "python",
   "pygments_lexer": "ipython3",
   "version": "3.10.7"
  }
 },
 "nbformat": 4,
 "nbformat_minor": 2
}
